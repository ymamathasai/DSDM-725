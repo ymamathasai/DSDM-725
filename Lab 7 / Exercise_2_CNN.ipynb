{
  "nbformat": 4,
  "nbformat_minor": 0,
  "metadata": {
    "colab": {
      "name": "Exercise_2_CNN.ipynb",
      "provenance": [],
      "collapsed_sections": [],
      "include_colab_link": true
    },
    "kernelspec": {
      "name": "python3",
      "display_name": "Python 3"
    }
  },
  "cells": [
    {
      "cell_type": "markdown",
      "metadata": {
        "id": "view-in-github",
        "colab_type": "text"
      },
      "source": [
        "<a href=\"https://colab.research.google.com/github/ymamathasai/DSDM-725/blob/main/Lab%207%20/%20Exercise_2_CNN.ipynb\" target=\"_parent\"><img src=\"https://colab.research.google.com/assets/colab-badge.svg\" alt=\"Open In Colab\"/></a>"
      ]
    },
    {
      "cell_type": "code",
      "metadata": {
        "id": "vOPV3P9hHGAU",
        "colab": {
          "base_uri": "https://localhost:8080/"
        },
        "outputId": "d5e1e8c7-95c5-4717-b1d3-7c950e0622ac"
      },
      "source": [
        "import os\n",
        "os.environ['KAGGLE_USERNAME'] = \"mamathay\"\n",
        "os.environ['KAGGLE_KEY'] = \"121684226c5efcb33992b8cfebea7289\"\n",
        "!kaggle competitions download -c dogs-vs-cats\n",
        "# change dataset to -- kaggle datasets download -d arunrk7/surface-crack-detection"
      ],
      "execution_count": 1,
      "outputs": [
        {
          "output_type": "stream",
          "text": [
            "Warning: Looks like you're using an outdated API Version, please consider updating (server 1.5.12 / client 1.5.4)\n",
            "Downloading sampleSubmission.csv to /content\n",
            "  0% 0.00/86.8k [00:00<?, ?B/s]\n",
            "100% 86.8k/86.8k [00:00<00:00, 33.7MB/s]\n",
            "Downloading test1.zip to /content\n",
            "100% 271M/271M [00:02<00:00, 107MB/s] \n",
            "100% 271M/271M [00:02<00:00, 97.3MB/s]\n",
            "Downloading train.zip to /content\n",
            " 96% 523M/543M [00:03<00:00, 131MB/s]\n",
            "100% 543M/543M [00:03<00:00, 148MB/s]\n"
          ],
          "name": "stdout"
        }
      ]
    },
    {
      "cell_type": "code",
      "metadata": {
        "id": "AndNGrwiJLLu",
        "colab": {
          "base_uri": "https://localhost:8080/"
        },
        "outputId": "a61dbd94-50b0-44d4-d3fc-95caa9e2999b"
      },
      "source": [
        "from zipfile import ZipFile\n",
        "\n",
        "file_name = \"/content/train.zip\"\n",
        "\n",
        "with ZipFile(file_name, 'r') as zip:\n",
        "  zip.extractall()\n",
        "  print('done')"
      ],
      "execution_count": 2,
      "outputs": [
        {
          "output_type": "stream",
          "text": [
            "done\n"
          ],
          "name": "stdout"
        }
      ]
    },
    {
      "cell_type": "code",
      "metadata": {
        "id": "NN3hnic0LO94",
        "colab": {
          "base_uri": "https://localhost:8080/"
        },
        "outputId": "dd606390-9526-4432-976a-bd88cc19d5d3"
      },
      "source": [
        "data_dir_list = os.listdir('/content/train')\n",
        "path, dirs, files = next(os.walk(\"/content/train\"))\n",
        "file_count = len(files)\n",
        "print(file_count)"
      ],
      "execution_count": 3,
      "outputs": [
        {
          "output_type": "stream",
          "text": [
            "25000\n"
          ],
          "name": "stdout"
        }
      ]
    },
    {
      "cell_type": "code",
      "metadata": {
        "id": "u27_2vfDLROA"
      },
      "source": [
        "original_dataset_dir = '/content/train'\n",
        "base_dir = '/content/cats_and_dogs_small'\n"
      ],
      "execution_count": 6,
      "outputs": []
    },
    {
      "cell_type": "code",
      "metadata": {
        "id": "tbLKH1FhLSio"
      },
      "source": [
        "train_dir = os.path.join(base_dir, 'train')\n",
        "os.mkdir(train_dir)\n",
        "\n",
        "validation_dir = os.path.join(base_dir, 'validation')\n",
        "os.mkdir(validation_dir)\n",
        "\n",
        "test_dir = os.path.join(base_dir, 'test')\n",
        "os.mkdir(test_dir)\n",
        "\n",
        "train_cats_dir = os.path.join(train_dir, 'cats')\n",
        "os.mkdir(train_cats_dir)\n",
        "\n",
        "train_dogs_dir = os.path.join(train_dir, 'dogs')\n",
        "os.mkdir(train_dogs_dir)\n",
        "\n",
        "validation_cats_dir = os.path.join(validation_dir, 'cats')\n",
        "os.mkdir(validation_cats_dir)\n",
        "\n",
        "validation_dogs_dir = os.path.join(validation_dir, 'dogs')\n",
        "os.mkdir(validation_dogs_dir)\n",
        "\n",
        "test_cats_dir = os.path.join(test_dir, 'cats')\n",
        "os.mkdir(test_cats_dir)\n",
        "\n",
        "test_dogs_dir = os.path.join(test_dir, 'dogs')\n",
        "os.mkdir(test_dogs_dir)"
      ],
      "execution_count": 7,
      "outputs": []
    },
    {
      "cell_type": "code",
      "metadata": {
        "id": "-DNLHBxZLX_A"
      },
      "source": [
        "import shutil\n",
        "fnames = ['cat.{}.jpg'.format(i) for i in range(1000)]\n",
        "for fname in fnames:\n",
        "    src = os.path.join(original_dataset_dir, fname)\n",
        "    dst = os.path.join(train_cats_dir, fname)\n",
        "    #print(src,dst)\n",
        "    shutil.copyfile(src, dst)\n",
        "    \n",
        "fnames = ['cat.{}.jpg'.format(i) for i in range(1000, 1500)]\n",
        "for fname in fnames:\n",
        "    src = os.path.join(original_dataset_dir, fname)\n",
        "    dst = os.path.join(validation_cats_dir, fname)\n",
        "    shutil.copyfile(src, dst)\n",
        "\n",
        "fnames = ['cat.{}.jpg'.format(i) for i in range(1500, 2000)]\n",
        "for fname in fnames:\n",
        "    src = os.path.join(original_dataset_dir, fname)\n",
        "    dst = os.path.join(test_cats_dir, fname)\n",
        "    shutil.copyfile(src, dst)\n",
        "    \n",
        "fnames = ['dog.{}.jpg'.format(i) for i in range(1000)]\n",
        "for fname in fnames:\n",
        "    src = os.path.join(original_dataset_dir, fname)\n",
        "    dst = os.path.join(train_dogs_dir, fname)\n",
        "    shutil.copyfile(src, dst)\n",
        "\n",
        "fnames = ['dog.{}.jpg'.format(i) for i in range(1000, 1500)]\n",
        "for fname in fnames:\n",
        "    src = os.path.join(original_dataset_dir, fname)\n",
        "    dst = os.path.join(validation_dogs_dir, fname)\n",
        "    shutil.copyfile(src, dst)\n",
        "\n",
        "fnames = ['dog.{}.jpg'.format(i) for i in range(1500, 2000)]\n",
        "for fname in fnames:\n",
        "    src = os.path.join(original_dataset_dir, fname)\n",
        "    dst = os.path.join(test_dogs_dir, fname)\n",
        "    shutil.copyfile(src, dst)"
      ],
      "execution_count": 8,
      "outputs": []
    },
    {
      "cell_type": "code",
      "metadata": {
        "id": "s7C8WmFjLZ8w",
        "colab": {
          "base_uri": "https://localhost:8080/"
        },
        "outputId": "25c3ea52-a0d8-44a2-c0df-fa3585a114a9"
      },
      "source": [
        "print('total training cat images:', len(os.listdir(train_cats_dir)))\n",
        "print('total training dog images:', len(os.listdir(train_dogs_dir)))\n",
        "print('total validation cat images:', len(os.listdir(validation_cats_dir)))\n",
        "\n",
        "print('total validation dog images:', len(os.listdir(validation_dogs_dir)))\n",
        "print('total test cat images:', len(os.listdir(test_cats_dir)))\n",
        "print('total test dog images:', len(os.listdir(test_dogs_dir)))"
      ],
      "execution_count": 9,
      "outputs": [
        {
          "output_type": "stream",
          "text": [
            "total training cat images: 1000\n",
            "total training dog images: 1000\n",
            "total validation cat images: 500\n",
            "total validation dog images: 500\n",
            "total test cat images: 500\n",
            "total test dog images: 500\n"
          ],
          "name": "stdout"
        }
      ]
    },
    {
      "cell_type": "code",
      "metadata": {
        "id": "SRsi_wZZNbZ0",
        "colab": {
          "base_uri": "https://localhost:8080/"
        },
        "outputId": "71c0d4ba-6a67-49a7-e45d-6de608f6fab1"
      },
      "source": [
        "from keras import layers\n",
        "from keras import models\n",
        "\n",
        "model = models.Sequential()\n",
        "model.add(layers.Conv2D(32, (3, 3), activation='relu', input_shape=(150, 150, 3)))\n",
        "model.add(layers.MaxPooling2D((2, 2)))\n",
        "model.add(layers.Conv2D(64, (3, 3), activation='relu'))\n",
        "model.add(layers.MaxPooling2D((2, 2)))\n",
        "model.add(layers.Conv2D(128, (3, 3), activation='relu'))\n",
        "model.add(layers.MaxPooling2D((2, 2)))\n",
        "model.add(layers.Conv2D(128, (3, 3), activation='relu'))\n",
        "model.add(layers.MaxPooling2D((2, 2)))\n",
        "model.add(layers.Flatten())\n",
        "model.add(layers.Dense(512, activation='relu'))\n",
        "model.add(layers.Dense(1, activation='sigmoid'))\n",
        "model.summary()"
      ],
      "execution_count": 10,
      "outputs": [
        {
          "output_type": "stream",
          "text": [
            "Model: \"sequential\"\n",
            "_________________________________________________________________\n",
            "Layer (type)                 Output Shape              Param #   \n",
            "=================================================================\n",
            "conv2d (Conv2D)              (None, 148, 148, 32)      896       \n",
            "_________________________________________________________________\n",
            "max_pooling2d (MaxPooling2D) (None, 74, 74, 32)        0         \n",
            "_________________________________________________________________\n",
            "conv2d_1 (Conv2D)            (None, 72, 72, 64)        18496     \n",
            "_________________________________________________________________\n",
            "max_pooling2d_1 (MaxPooling2 (None, 36, 36, 64)        0         \n",
            "_________________________________________________________________\n",
            "conv2d_2 (Conv2D)            (None, 34, 34, 128)       73856     \n",
            "_________________________________________________________________\n",
            "max_pooling2d_2 (MaxPooling2 (None, 17, 17, 128)       0         \n",
            "_________________________________________________________________\n",
            "conv2d_3 (Conv2D)            (None, 15, 15, 128)       147584    \n",
            "_________________________________________________________________\n",
            "max_pooling2d_3 (MaxPooling2 (None, 7, 7, 128)         0         \n",
            "_________________________________________________________________\n",
            "flatten (Flatten)            (None, 6272)              0         \n",
            "_________________________________________________________________\n",
            "dense (Dense)                (None, 512)               3211776   \n",
            "_________________________________________________________________\n",
            "dense_1 (Dense)              (None, 1)                 513       \n",
            "=================================================================\n",
            "Total params: 3,453,121\n",
            "Trainable params: 3,453,121\n",
            "Non-trainable params: 0\n",
            "_________________________________________________________________\n"
          ],
          "name": "stdout"
        }
      ]
    },
    {
      "cell_type": "code",
      "metadata": {
        "id": "Z5WziKKONfmJ"
      },
      "source": [
        "from keras import optimizers\n",
        "model.compile(loss='binary_crossentropy', \n",
        "              optimizer=optimizers.RMSprop(lr=1e-4),\n",
        "              metrics=['acc'])"
      ],
      "execution_count": 11,
      "outputs": []
    },
    {
      "cell_type": "code",
      "metadata": {
        "id": "PHw-511PPt7Q",
        "colab": {
          "base_uri": "https://localhost:8080/"
        },
        "outputId": "574ba7ec-b50e-4ddf-faf2-d344f770e730"
      },
      "source": [
        "from keras.preprocessing.image import ImageDataGenerator\n",
        "\n",
        "train_datagen = ImageDataGenerator(rescale=1./255)\n",
        "test_datagen = ImageDataGenerator(rescale=1./255)\n",
        "\n",
        "train_generator = train_datagen.flow_from_directory(train_dir,\n",
        "                                                    target_size=(150, 150), \n",
        "                                                    batch_size=20,\n",
        "                                                    class_mode='binary')\n",
        "\n",
        "validation_generator = test_datagen.flow_from_directory(validation_dir,\n",
        "                                                        target_size=(150, 150),\n",
        "                                                        batch_size=20,\n",
        "                                                        class_mode='binary')"
      ],
      "execution_count": 12,
      "outputs": [
        {
          "output_type": "stream",
          "text": [
            "Found 2000 images belonging to 2 classes.\n",
            "Found 1000 images belonging to 2 classes.\n"
          ],
          "name": "stdout"
        }
      ]
    },
    {
      "cell_type": "code",
      "metadata": {
        "id": "Ryor_ywbP9-h",
        "colab": {
          "base_uri": "https://localhost:8080/"
        },
        "outputId": "fa5c5cbd-61f9-4f1b-952d-45fbaea5e8e8"
      },
      "source": [
        "history = model.fit_generator(train_generator,\n",
        "                              steps_per_epoch=100,\n",
        "                              epochs=30,\n",
        "                              validation_data=validation_generator,\n",
        "                              validation_steps=10)"
      ],
      "execution_count": 13,
      "outputs": [
        {
          "output_type": "stream",
          "text": [
            "/usr/local/lib/python3.7/dist-packages/tensorflow/python/keras/engine/training.py:1844: UserWarning: `Model.fit_generator` is deprecated and will be removed in a future version. Please use `Model.fit`, which supports generators.\n",
            "  warnings.warn('`Model.fit_generator` is deprecated and '\n"
          ],
          "name": "stderr"
        },
        {
          "output_type": "stream",
          "text": [
            "Epoch 1/30\n",
            "100/100 [==============================] - 84s 831ms/step - loss: 0.6974 - acc: 0.4906 - val_loss: 0.6823 - val_acc: 0.5550\n",
            "Epoch 2/30\n",
            "100/100 [==============================] - 83s 827ms/step - loss: 0.6742 - acc: 0.5892 - val_loss: 0.6934 - val_acc: 0.5150\n",
            "Epoch 3/30\n",
            "100/100 [==============================] - 83s 829ms/step - loss: 0.6215 - acc: 0.6494 - val_loss: 0.6320 - val_acc: 0.6150\n",
            "Epoch 4/30\n",
            "100/100 [==============================] - 83s 830ms/step - loss: 0.5853 - acc: 0.6895 - val_loss: 0.6112 - val_acc: 0.6350\n",
            "Epoch 5/30\n",
            "100/100 [==============================] - 83s 829ms/step - loss: 0.5449 - acc: 0.7183 - val_loss: 0.6321 - val_acc: 0.6200\n",
            "Epoch 6/30\n",
            "100/100 [==============================] - 83s 826ms/step - loss: 0.5275 - acc: 0.7281 - val_loss: 0.5892 - val_acc: 0.6800\n",
            "Epoch 7/30\n",
            "100/100 [==============================] - 83s 828ms/step - loss: 0.4906 - acc: 0.7569 - val_loss: 0.6239 - val_acc: 0.6700\n",
            "Epoch 8/30\n",
            "100/100 [==============================] - 83s 827ms/step - loss: 0.4718 - acc: 0.7684 - val_loss: 0.5925 - val_acc: 0.7350\n",
            "Epoch 9/30\n",
            "100/100 [==============================] - 83s 827ms/step - loss: 0.4465 - acc: 0.7893 - val_loss: 0.5950 - val_acc: 0.7000\n",
            "Epoch 10/30\n",
            "100/100 [==============================] - 83s 826ms/step - loss: 0.4200 - acc: 0.7961 - val_loss: 0.5321 - val_acc: 0.7350\n",
            "Epoch 11/30\n",
            "100/100 [==============================] - 83s 829ms/step - loss: 0.3966 - acc: 0.8201 - val_loss: 0.5241 - val_acc: 0.7650\n",
            "Epoch 12/30\n",
            "100/100 [==============================] - 83s 827ms/step - loss: 0.3892 - acc: 0.8250 - val_loss: 0.6025 - val_acc: 0.6800\n",
            "Epoch 13/30\n",
            "100/100 [==============================] - 83s 829ms/step - loss: 0.3596 - acc: 0.8427 - val_loss: 0.5565 - val_acc: 0.7500\n",
            "Epoch 14/30\n",
            "100/100 [==============================] - 83s 832ms/step - loss: 0.3294 - acc: 0.8675 - val_loss: 0.5726 - val_acc: 0.7150\n",
            "Epoch 15/30\n",
            "100/100 [==============================] - 83s 835ms/step - loss: 0.3157 - acc: 0.8698 - val_loss: 0.6189 - val_acc: 0.7100\n",
            "Epoch 16/30\n",
            "100/100 [==============================] - 83s 831ms/step - loss: 0.2797 - acc: 0.8920 - val_loss: 0.7107 - val_acc: 0.7200\n",
            "Epoch 17/30\n",
            "100/100 [==============================] - 83s 831ms/step - loss: 0.2617 - acc: 0.8854 - val_loss: 0.5689 - val_acc: 0.7650\n",
            "Epoch 18/30\n",
            "100/100 [==============================] - 83s 832ms/step - loss: 0.2450 - acc: 0.9049 - val_loss: 0.5379 - val_acc: 0.7750\n",
            "Epoch 19/30\n",
            "100/100 [==============================] - 83s 831ms/step - loss: 0.2234 - acc: 0.9175 - val_loss: 0.9170 - val_acc: 0.6900\n",
            "Epoch 20/30\n",
            "100/100 [==============================] - 83s 831ms/step - loss: 0.2021 - acc: 0.9206 - val_loss: 0.8362 - val_acc: 0.6900\n",
            "Epoch 21/30\n",
            "100/100 [==============================] - 83s 832ms/step - loss: 0.1669 - acc: 0.9386 - val_loss: 0.5895 - val_acc: 0.7350\n",
            "Epoch 22/30\n",
            "100/100 [==============================] - 83s 829ms/step - loss: 0.1492 - acc: 0.9452 - val_loss: 0.7318 - val_acc: 0.7450\n",
            "Epoch 23/30\n",
            "100/100 [==============================] - 83s 831ms/step - loss: 0.1384 - acc: 0.9630 - val_loss: 0.7237 - val_acc: 0.7200\n",
            "Epoch 24/30\n",
            "100/100 [==============================] - 83s 830ms/step - loss: 0.1142 - acc: 0.9641 - val_loss: 0.6644 - val_acc: 0.7800\n",
            "Epoch 25/30\n",
            "100/100 [==============================] - 83s 831ms/step - loss: 0.1046 - acc: 0.9597 - val_loss: 0.8749 - val_acc: 0.6800\n",
            "Epoch 26/30\n",
            "100/100 [==============================] - 83s 829ms/step - loss: 0.0944 - acc: 0.9672 - val_loss: 0.7778 - val_acc: 0.7250\n",
            "Epoch 27/30\n",
            "100/100 [==============================] - 83s 830ms/step - loss: 0.0706 - acc: 0.9842 - val_loss: 1.0233 - val_acc: 0.6900\n",
            "Epoch 28/30\n",
            "100/100 [==============================] - 83s 831ms/step - loss: 0.0920 - acc: 0.9673 - val_loss: 0.7697 - val_acc: 0.7150\n",
            "Epoch 29/30\n",
            "100/100 [==============================] - 83s 834ms/step - loss: 0.0643 - acc: 0.9817 - val_loss: 0.7271 - val_acc: 0.7650\n",
            "Epoch 30/30\n",
            "100/100 [==============================] - 83s 829ms/step - loss: 0.0453 - acc: 0.9915 - val_loss: 0.8451 - val_acc: 0.7400\n"
          ],
          "name": "stdout"
        }
      ]
    },
    {
      "cell_type": "code",
      "metadata": {
        "id": "tdGlieF-dzA6",
        "colab": {
          "base_uri": "https://localhost:8080/",
          "height": 545
        },
        "outputId": "54b693e6-5f6d-4be4-da17-89a122090266"
      },
      "source": [
        "model.save('cats_and_dogs_small_1.h5')\n",
        "\n",
        "import matplotlib.pyplot as plt\n",
        "\n",
        "acc = history.history['acc']\n",
        "val_acc = history.history['val_acc']\n",
        "loss = history.history['loss']\n",
        "val_loss = history.history['val_loss']\n",
        "\n",
        "epochs = range(1, len(acc) + 1)\n",
        "\n",
        "plt.plot(epochs, acc, 'bo', label='Training acc')\n",
        "plt.plot(epochs, val_acc, 'b', label='Validation acc')\n",
        "plt.title('Training and validation accuracy')\n",
        "plt.legend()\n",
        "\n",
        "plt.figure()\n",
        "\n",
        "plt.plot(epochs, loss, 'bo', label='Training loss')\n",
        "plt.plot(epochs, val_loss, 'b', label='Validation loss')\n",
        "plt.title('Training and validation loss')\n",
        "plt.legend()\n",
        "\n",
        "plt.show()"
      ],
      "execution_count": 15,
      "outputs": [
        {
          "output_type": "display_data",
          "data": {
            "image/png": "[encoded data removed]",
            "text/plain": [
              "<Figure size 432x288 with 1 Axes>"
            ]
          },
          "metadata": {
            "tags": [],
            "needs_background": "light"
          }
        },
        {
          "output_type": "display_data",
          "data": {
            "image/png": "[encoded data removed]",
            "text/plain": [
              "<Figure size 432x288 with 1 Axes>"
            ]
          },
          "metadata": {
            "tags": [],
            "needs_background": "light"
          }
        }
      ]
    },
    {
      "cell_type": "code",
      "metadata": {
        "id": "tW-0WajueCzv"
      },
      "source": [
        "model = models.Sequential()\n",
        "model.add(layers.Conv2D(32, (3, 3), activation='relu',\n",
        "input_shape=(150, 150, 3)))\n",
        "model.add(layers.MaxPooling2D((2, 2)))\n",
        "model.add(layers.Conv2D(64, (3, 3), activation='relu'))\n",
        "model.add(layers.MaxPooling2D((2, 2)))\n",
        "model.add(layers.Conv2D(128, (3, 3), activation='relu'))\n",
        "model.add(layers.MaxPooling2D((2, 2)))\n",
        "model.add(layers.Conv2D(128, (3, 3), activation='relu'))\n",
        "model.add(layers.MaxPooling2D((2, 2)))\n",
        "model.add(layers.Flatten())\n",
        "model.add(layers.Dropout(0.5))\n",
        "model.add(layers.Dense(512, activation='relu'))\n",
        "model.add(layers.Dense(1, activation='sigmoid'))\n",
        "\n",
        "model.compile(loss='binary_crossentropy',\n",
        "              optimizer=optimizers.RMSprop(lr=1e-4),\n",
        "              metrics=['acc'])"
      ],
      "execution_count": 16,
      "outputs": []
    },
    {
      "cell_type": "code",
      "metadata": {
        "id": "cbshUOD-eE7X",
        "colab": {
          "base_uri": "https://localhost:8080/"
        },
        "outputId": "c3ee1e7b-e003-44ef-a0d9-f92ad0ace7da"
      },
      "source": [
        "train_datagen = ImageDataGenerator(rescale=1./255,\n",
        "                                   rotation_range=40,\n",
        "                                   width_shift_range=0.2,\n",
        "                                   height_shift_range=0.2,\n",
        "                                   shear_range=0.2,\n",
        "                                   zoom_range=0.2,\n",
        "                                   horizontal_flip=True,)\n",
        "\n",
        "test_datagen = ImageDataGenerator(rescale=1./255)\n",
        "\n",
        "train_generator = train_datagen.flow_from_directory(train_dir,\n",
        "                                                    target_size=(150, 150),\n",
        "                                                    batch_size=32,\n",
        "                                                    class_mode='binary')\n",
        "\n",
        "validation_generator = test_datagen.flow_from_directory(validation_dir,\n",
        "                                                        target_size=(150, 150),\n",
        "                                                        batch_size=32,\n",
        "                                                        class_mode='binary')\n",
        "\n",
        "history = model.fit_generator(train_generator,\n",
        "                              steps_per_epoch=100,\n",
        "                              epochs=20,\n",
        "                              validation_data=validation_generator,\n",
        "                              validation_steps=50)"
      ],
      "execution_count": 17,
      "outputs": [
        {
          "output_type": "stream",
          "text": [
            "Found 2000 images belonging to 2 classes.\n",
            "Found 1000 images belonging to 2 classes.\n"
          ],
          "name": "stdout"
        },
        {
          "output_type": "stream",
          "text": [
            "/usr/local/lib/python3.7/dist-packages/tensorflow/python/keras/engine/training.py:1844: UserWarning: `Model.fit_generator` is deprecated and will be removed in a future version. Please use `Model.fit`, which supports generators.\n",
            "  warnings.warn('`Model.fit_generator` is deprecated and '\n"
          ],
          "name": "stderr"
        },
        {
          "output_type": "stream",
          "text": [
            "Epoch 1/20\n",
            " 63/100 [=================>............] - ETA: 51s - loss: 0.6964 - acc: 0.5026WARNING:tensorflow:Your input ran out of data; interrupting training. Make sure that your dataset or generator can generate at least `steps_per_epoch * epochs` batches (in this case, 2000 batches). You may need to use the repeat() function when building your dataset.\n",
            "WARNING:tensorflow:Your input ran out of data; interrupting training. Make sure that your dataset or generator can generate at least `steps_per_epoch * epochs` batches (in this case, 50 batches). You may need to use the repeat() function when building your dataset.\n",
            "100/100 [==============================] - 101s 990ms/step - loss: 0.6952 - acc: 0.5088 - val_loss: 0.7006 - val_acc: 0.5000\n"
          ],
          "name": "stdout"
        }
      ]
    }
  ]
}